{
 "cells": [
  {
   "cell_type": "code",
   "execution_count": null,
   "id": "2aee4cb1",
   "metadata": {},
   "outputs": [],
   "source": [
    "import numpy as np\n",
    "import pandas as pd\n",
    "import tifffile\n",
    "from pathlib import Path\n",
    "import matplotlib.pyplot as plt\n",
    "from sklearn.metrics import jaccard_score\n",
    "from scipy.spatial.distance import directed_hausdorff"
   ]
  },
  {
   "cell_type": "markdown",
   "id": "1739b20c",
   "metadata": {},
   "source": [
    "###### Write utility functions"
   ]
  },
  {
   "cell_type": "code",
   "execution_count": null,
   "id": "46d54a2a",
   "metadata": {},
   "outputs": [],
   "source": [
    "def enc2mask(encs, shape):\n",
    "    img = np.zeros(shape[0] * shape[1], dtype=np.uint8)\n",
    "    for m, enc in enumerate(encs):\n",
    "        if isinstance(enc, np.float) and np.isnan(enc):\n",
    "            continue\n",
    "        enc_split = enc.split()\n",
    "        for i in range(len(enc_split) // 2):\n",
    "            start = int(enc_split[2 * i]) - 1\n",
    "            length = int(enc_split[2 * i + 1])\n",
    "            img[start: start + length] = 1 + m\n",
    "\n",
    "    return img.reshape(shape).T"
   ]
  },
  {
   "cell_type": "code",
   "execution_count": null,
   "id": "49edf634",
   "metadata": {},
   "outputs": [],
   "source": [
    "def dice_scores_img(pred, truth, eps=1e-8):\n",
    "    pred = pred.reshape(-1) > 0\n",
    "    truth = truth.reshape(-1) > 0\n",
    "    intersect = (pred & truth).sum(-1)\n",
    "    union = pred.sum(-1) + truth.sum(-1)\n",
    "\n",
    "    dice = (2.0 * intersect + eps) / (union + eps)\n",
    "    return dice"
   ]
  },
  {
   "cell_type": "code",
   "execution_count": null,
   "id": "6a14bf6b",
   "metadata": {},
   "outputs": [],
   "source": [
    "def perf_metrics(gt, pred):\n",
    "    n = 0\n",
    "    d = 0\n",
    "    for i in range(gt.shape[0]):\n",
    "        for j in range (gt.shape[1]):\n",
    "            if (gt[i][j]==pred[i][j]):\n",
    "                n = n+1\n",
    "            d = d+1\n",
    "    \n",
    "    return n/d, jaccard_score(gt.flatten(order='C'), pred.flatten(order='C')), directed_hausdorff(gt, pred)"
   ]
  },
  {
   "cell_type": "markdown",
   "id": "5cd7d96d",
   "metadata": {},
   "source": [
    "<h6> Calculate mean metrics values for test images </h6> "
   ]
  },
  {
   "cell_type": "code",
   "execution_count": null,
   "id": "e7d3ac56",
   "metadata": {},
   "outputs": [],
   "source": [
    "DATA_PATH = Path('path/to/dataset/')\n",
    "df_pred = pd.read_csv('predictions.csv')\n",
    "df_truth = pd.read_csv(DATA_PATH/'ground_truth.csv')\n",
    "df_info = pd.read_csv(DATA_PATH/'metadata.csv')"
   ]
  },
  {
   "cell_type": "code",
   "execution_count": null,
   "id": "a679d01e-ec93-477d-b864-bbc155567422",
   "metadata": {},
   "outputs": [],
   "source": [
    "df_pred"
   ]
  },
  {
   "cell_type": "code",
   "execution_count": null,
   "id": "0250ff05-4ea2-47ac-b38a-b3495692e69f",
   "metadata": {},
   "outputs": [],
   "source": [
    "plt.rcParams[\"figure.figsize\"] = [20,20]"
   ]
  },
  {
   "cell_type": "code",
   "execution_count": null,
   "id": "3912634d",
   "metadata": {},
   "outputs": [],
   "source": [
    "scores = []\n",
    "pa_list = []\n",
    "ji_list = []\n",
    "haus_dis_list = []\n",
    "\n",
    "for img in df_truth['filename'].unique():\n",
    "    \n",
    "    organ = df_truth[df_truth['filename'] == img]['tissue_name']\n",
    "    im_orig = tifffile.imread(str(DATA_PATH)+\"/test/\"+img+\".tif\")\n",
    "    \n",
    "    shape_ = im_orig.shape\n",
    "    shape = (shape_[0],shape_[1])#df_info[df_info.image_file == img][['width_pixels', 'height_pixels']].values.astype(int)[0]\n",
    "    truth = df_truth[df_truth['filename'] == img]['rle']\n",
    "    mask_truth = enc2mask(truth, shape)\n",
    "    print(img)\n",
    "    pred = df_pred[df_pred['filename'] == img]['predicted']\n",
    "    mask_pred = enc2mask(pred, shape)\n",
    "    fig,ax = plt.subplots(1,3)\n",
    "    # plt.title(f\"Organ {organ.values[0]}\")\n",
    "    # plt.suptitle()\n",
    "    # fig.tight_layout()\n",
    "\n",
    "    ax[0].imshow(im_orig)\n",
    "    ax[0].set_title(f\"Image Organ = {organ.values[0]}\")\n",
    "    ax[1].imshow(mask_truth)\n",
    "    ax[1].set_title(\"Ground truth\")\n",
    "    ax[2].imshow(mask_pred)\n",
    "    ax[2].set_title(\"Predicted mask\")\n",
    "    plt.show()\n",
    "    score = dice_scores_img(mask_pred, mask_truth)\n",
    "    print (score)\n",
    "#     pa, ji, haus = perf_metrics(mask_pred, mask_truth)    \n",
    "#     pa_list.append (pa)\n",
    "#     ji_list.append(ji)\n",
    "#     haus_dis_list.append(haus[0])\n",
    "    scores.append(score)"
   ]
  },
  {
   "cell_type": "code",
   "execution_count": null,
   "id": "f667b046",
   "metadata": {},
   "outputs": [],
   "source": [
    "l = len(df_pred)\n",
    "for img, s in zip(df_truth[5:]['filename'],scores):\n",
    "    print (round(s, 3))\n",
    "    \n",
    "print (\"Average Dice Score = \", round(sum(scores)/l,3))"
   ]
  },
  {
   "cell_type": "code",
   "execution_count": null,
   "id": "eea6770b-d981-4f25-a9a7-02c389eb2257",
   "metadata": {},
   "outputs": [],
   "source": [
    "df_pred['dice_scores'] = scores"
   ]
  },
  {
   "cell_type": "code",
   "execution_count": null,
   "id": "9da0ba43-45f5-4bed-921c-2689b0f559f6",
   "metadata": {},
   "outputs": [],
   "source": [
    "df_pred.to_csv(\"test_result_dice.csv\",index=None)"
   ]
  }
 ],
 "metadata": {
  "kernelspec": {
   "display_name": "Python 3 (ipykernel)",
   "language": "python",
   "name": "python3"
  },
  "language_info": {
   "codemirror_mode": {
    "name": "ipython",
    "version": 3
   },
   "file_extension": ".py",
   "mimetype": "text/x-python",
   "name": "python",
   "nbconvert_exporter": "python",
   "pygments_lexer": "ipython3",
   "version": "3.9.8"
  }
 },
 "nbformat": 4,
 "nbformat_minor": 5
}
