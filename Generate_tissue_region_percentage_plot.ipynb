{
 "cells": [
  {
   "cell_type": "markdown",
   "metadata": {},
   "source": [
    "Notebook to generate the tissue region percentage plot. (Requires a metadata.csv file with filenames and tissue region percentage values)\n"
   ]
  },
  {
   "cell_type": "markdown",
   "metadata": {},
   "source": [
    "Importing packages"
   ]
  },
  {
   "cell_type": "code",
   "execution_count": null,
   "metadata": {},
   "outputs": [],
   "source": [
    "import numpy as np\n",
    "import pandas as pd\n",
    "import tifffile\n",
    "import random\n",
    "import cv2\n",
    "import matplotlib.pyplot as plt\n",
    "import seaborn as sns\n",
    "import glob as glob\n",
    "import os\n",
    "import plotly.express as px"
   ]
  },
  {
   "cell_type": "code",
   "execution_count": null,
   "metadata": {},
   "outputs": [],
   "source": [
    "plt.rcParams[\"figure.figsize\"] = (15,5)"
   ]
  },
  {
   "cell_type": "markdown",
   "metadata": {},
   "source": [
    "Plotting areas"
   ]
  },
  {
   "cell_type": "code",
   "execution_count": null,
   "metadata": {},
   "outputs": [],
   "source": [
    "data = pd.read_csv(\"metadata_with_filename_and_tissue_region_percentage_value.csv\")"
   ]
  },
  {
   "cell_type": "markdown",
   "metadata": {},
   "source": [
    "Colon"
   ]
  },
  {
   "cell_type": "code",
   "execution_count": null,
   "metadata": {},
   "outputs": [],
   "source": [
    "colon_500_stat = data[data['tissue_name'] == 'colon']"
   ]
  },
  {
   "cell_type": "code",
   "execution_count": null,
   "metadata": {},
   "outputs": [],
   "source": [
    "fig = px.histogram(colon_500_stat, x=\"tissue_region_percentage\",title='colon data')\n",
    "plt.figure(tight_layout=True)\n",
    "fig.show()"
   ]
  },
  {
   "cell_type": "code",
   "execution_count": null,
   "metadata": {},
   "outputs": [],
   "source": [
    "info1 = []\n",
    "for i in range(0,70,3):\n",
    "    info1.append([i,len(colon_500_stat[(colon_500_stat['tissue_region_percentage'] > i)]),])\n",
    "    "
   ]
  },
  {
   "cell_type": "code",
   "execution_count": null,
   "metadata": {},
   "outputs": [],
   "source": [
    "info1 = np.array(info1)"
   ]
  },
  {
   "cell_type": "code",
   "execution_count": null,
   "metadata": {},
   "outputs": [],
   "source": [
    "info1 = pd.DataFrame(info1,columns=['Tissue region percentage','Number of images'])"
   ]
  },
  {
   "cell_type": "code",
   "execution_count": null,
   "metadata": {},
   "outputs": [],
   "source": [
    "fig = px.line(info1, x=\"Tissue region percentage\", y='Number of images',markers=True,title=\"Colon\")\n",
    "fig.show()"
   ]
  },
  {
   "cell_type": "code",
   "execution_count": null,
   "metadata": {},
   "outputs": [],
   "source": [
    "# min_reg = colon_500_stat[colon_500_stat['tissue_region_percentage'] == colon_500_stat['tissue_region_percentage'].min()].values\n",
    "# max_reg = colon_500_stat[colon_500_stat['tissue_region_percentage'] == colon_500_stat['tissue_region_percentage'].max()].values"
   ]
  },
  {
   "cell_type": "code",
   "execution_count": null,
   "metadata": {},
   "outputs": [],
   "source": [
    "# print(\"Min tissue region\",min_reg[0][-2])\n",
    "# im = tifffile.imread(min_reg[0][-3])\n",
    "# plt.imshow(im)\n",
    "# plt.title(f\"local path : {min_reg[0][-3]} || tissue region percentage : {min_reg[0][-2]}\")\n",
    "\n"
   ]
  },
  {
   "cell_type": "code",
   "execution_count": null,
   "metadata": {},
   "outputs": [],
   "source": [
    "# print(\"Max tissue region\",max_reg[0][-2])\n",
    "# im = tifffile.imread(max_reg[0][-3])\n",
    "# plt.imshow(im)\n",
    "# plt.title(f\"local path : {max_reg[0][-3]} || tissue region percentage : {max_reg[0][-2]}\")\n",
    "\n"
   ]
  },
  {
   "cell_type": "markdown",
   "metadata": {},
   "source": [
    "Spleen"
   ]
  },
  {
   "cell_type": "code",
   "execution_count": null,
   "metadata": {},
   "outputs": [],
   "source": [
    "spleen_500_stat = data[data['tissue_name'] == 'spleen']"
   ]
  },
  {
   "cell_type": "code",
   "execution_count": null,
   "metadata": {},
   "outputs": [],
   "source": [
    "fig = px.histogram(spleen_500_stat, x=\"tissue_region_percentage\",title='spleen data')\n",
    "fig.show()"
   ]
  },
  {
   "cell_type": "code",
   "execution_count": null,
   "metadata": {},
   "outputs": [],
   "source": [
    "info2 = []\n",
    "for i in range(0,70,3):\n",
    "    info2.append([i,len(spleen_500_stat[(spleen_500_stat['tissue_region_percentage'] > i)]),])\n",
    "    "
   ]
  },
  {
   "cell_type": "code",
   "execution_count": null,
   "metadata": {},
   "outputs": [],
   "source": [
    "info2 = np.array(info2)"
   ]
  },
  {
   "cell_type": "code",
   "execution_count": null,
   "metadata": {},
   "outputs": [],
   "source": [
    "info2 = pd.DataFrame(info2,columns=['Tissue region percentage','Number of images'])"
   ]
  },
  {
   "cell_type": "code",
   "execution_count": null,
   "metadata": {},
   "outputs": [],
   "source": [
    "fig = px.line(info2, x=\"Tissue region percentage\", y='Number of images',markers=True,title=\"spleen\")\n",
    "fig.show()"
   ]
  },
  {
   "cell_type": "code",
   "execution_count": null,
   "metadata": {},
   "outputs": [],
   "source": [
    "# min_reg = spleen_500_stat[spleen_500_stat['tissue_region_percentage'] == spleen_500_stat['tissue_region_percentage'].min()].values\n",
    "# max_reg = spleen_500_stat[spleen_500_stat['tissue_region_percentage'] == spleen_500_stat['tissue_region_percentage'].max()].values"
   ]
  },
  {
   "cell_type": "code",
   "execution_count": null,
   "metadata": {},
   "outputs": [],
   "source": [
    "# print(\"Min tissue region\",min_reg[0][-2])\n",
    "# im = tifffile.imread(min_reg[0][-3])\n",
    "# plt.imshow(im)\n",
    "# plt.title(f\"local path : {min_reg[0][-3]} || tissue region percentage : {min_reg[0][-2]}\")\n",
    "\n"
   ]
  },
  {
   "cell_type": "code",
   "execution_count": null,
   "metadata": {},
   "outputs": [],
   "source": [
    "# print(\"Max tissue region\",max_reg[0][-2])\n",
    "# im = tifffile.imread(max_reg[0][-3])\n",
    "# plt.imshow(im)\n",
    "# plt.title(f\"local path : {max_reg[0][-3]} || tissue region percentage : {max_reg[0][-2]}\")\n",
    "\n"
   ]
  },
  {
   "cell_type": "markdown",
   "metadata": {},
   "source": [
    "Kidney"
   ]
  },
  {
   "cell_type": "code",
   "execution_count": null,
   "metadata": {},
   "outputs": [],
   "source": [
    "kidney_500_stat = data[data['tissue_name'] == 'kidney']"
   ]
  },
  {
   "cell_type": "code",
   "execution_count": null,
   "metadata": {},
   "outputs": [],
   "source": [
    "fig = px.histogram(kidney_500_stat, x=\"tissue_region_percentage\",title='spleen data')\n",
    "fig.show()"
   ]
  },
  {
   "cell_type": "code",
   "execution_count": null,
   "metadata": {},
   "outputs": [],
   "source": [
    "info3 = []\n",
    "for i in range(0,70,3):\n",
    "    info3.append([i,len(kidney_500_stat[(kidney_500_stat['tissue_region_percentage'] > i)]),])\n",
    "    "
   ]
  },
  {
   "cell_type": "code",
   "execution_count": null,
   "metadata": {},
   "outputs": [],
   "source": [
    "info3 = np.array(info3)"
   ]
  },
  {
   "cell_type": "code",
   "execution_count": null,
   "metadata": {},
   "outputs": [],
   "source": [
    "info3 = pd.DataFrame(info3,columns=['Tissue region percentage','Number of images'])"
   ]
  },
  {
   "cell_type": "code",
   "execution_count": null,
   "metadata": {},
   "outputs": [],
   "source": [
    "fig = px.line(info3, x=\"Tissue region percentage\", y='Number of images',markers=True,title=\"kidney\")\n",
    "fig.show()"
   ]
  },
  {
   "cell_type": "code",
   "execution_count": null,
   "metadata": {},
   "outputs": [],
   "source": [
    "# min_reg = kidney_500_stat[kidney_500_stat['tissue_region_percentage'] == kidney_500_stat['tissue_region_percentage'].min()].values\n",
    "# max_reg = kidney_500_stat[kidney_500_stat['tissue_region_percentage'] == kidney_500_stat['tissue_region_percentage'].max()].values"
   ]
  },
  {
   "cell_type": "code",
   "execution_count": null,
   "metadata": {},
   "outputs": [],
   "source": [
    "# print(\"Min tissue region\",min_reg[0][-2])\n",
    "# im = tifffile.imread(min_reg[0][-3])\n",
    "# plt.imshow(im)\n",
    "# plt.title(f\"local path : {min_reg[0][-3]} || tissue region percentage : {min_reg[0][-2]}\")\n",
    "\n"
   ]
  },
  {
   "cell_type": "code",
   "execution_count": null,
   "metadata": {},
   "outputs": [],
   "source": [
    "# print(\"Max tissue region\",max_reg[0][-2])\n",
    "# im = tifffile.imread(max_reg[0][-3])\n",
    "# plt.imshow(im)\n",
    "# plt.title(f\"local path : {max_reg[0][-3]} || tissue region percentage : {max_reg[0][-2]}\")\n",
    "\n"
   ]
  },
  {
   "cell_type": "markdown",
   "metadata": {},
   "source": [
    "lung"
   ]
  },
  {
   "cell_type": "code",
   "execution_count": null,
   "metadata": {},
   "outputs": [],
   "source": [
    "lung_500_stat = data[data['tissue_name'] == 'lung']"
   ]
  },
  {
   "cell_type": "code",
   "execution_count": null,
   "metadata": {},
   "outputs": [],
   "source": [
    "fig = px.histogram(lung_500_stat, x=\"tissue_region_percentage\",title='lung data')\n",
    "fig.show()"
   ]
  },
  {
   "cell_type": "code",
   "execution_count": null,
   "metadata": {},
   "outputs": [],
   "source": [
    "info4 = []\n",
    "for i in range(0,70,3):\n",
    "    info4.append([i,len(lung_500_stat[(lung_500_stat['tissue_region_percentage'] > i)]),])\n",
    "    "
   ]
  },
  {
   "cell_type": "code",
   "execution_count": null,
   "metadata": {},
   "outputs": [],
   "source": [
    "info4 = np.array(info4)"
   ]
  },
  {
   "cell_type": "code",
   "execution_count": null,
   "metadata": {},
   "outputs": [],
   "source": [
    "info4 = pd.DataFrame(info4,columns=['Tissue region percentage','Number of images'])"
   ]
  },
  {
   "cell_type": "code",
   "execution_count": null,
   "metadata": {},
   "outputs": [],
   "source": [
    "fig = px.line(info4, x=\"Tissue region percentage\", y='Number of images',markers=True,title=\"lung\")\n",
    "fig.show()"
   ]
  },
  {
   "cell_type": "code",
   "execution_count": null,
   "metadata": {},
   "outputs": [],
   "source": [
    "# min_reg = lung_500_stat[lung_500_stat['tissue_region_percentage'] == lung_500_stat['tissue_region_percentage'].min()].values\n",
    "# max_reg = lung_500_stat[lung_500_stat['tissue_region_percentage'] == lung_500_stat['tissue_region_percentage'].max()].values"
   ]
  },
  {
   "cell_type": "code",
   "execution_count": null,
   "metadata": {},
   "outputs": [],
   "source": [
    "# print(\"Min tissue region\",min_reg[0][-2])\n",
    "# im = tifffile.imread(min_reg[0][-3])\n",
    "# plt.imshow(im)\n",
    "# plt.title(f\"local path : {min_reg[0][-3]} || tissue region percentage : {min_reg[0][-2]}\")\n",
    "\n"
   ]
  },
  {
   "cell_type": "code",
   "execution_count": null,
   "metadata": {},
   "outputs": [],
   "source": [
    "# print(\"Max tissue region\",max_reg[0][-2])\n",
    "# im = tifffile.imread(max_reg[0][-3])\n",
    "# plt.imshow(im)\n",
    "# plt.title(f\"local path : {max_reg[0][-3]} || tissue region percentage : {max_reg[0][-2]}\")\n",
    "\n"
   ]
  },
  {
   "cell_type": "code",
   "execution_count": null,
   "metadata": {},
   "outputs": [],
   "source": [
    "# max_reg = lung_500_stat[lung_500_stat['tissue_region_percentage'] == lung_500_stat['tissue_region_percentage'].sort_values(ascending=False).values[2]].values"
   ]
  },
  {
   "cell_type": "code",
   "execution_count": null,
   "metadata": {},
   "outputs": [],
   "source": [
    "# print(\"Max tissue region\",max_reg[0][-2])\n",
    "# im = tifffile.imread(max_reg[0][-3])\n",
    "# plt.imshow(im)\n",
    "# plt.title(f\"local path : {max_reg[0][-3]} || tissue region percentage : {max_reg[0][-2]}\")\n",
    "\n"
   ]
  },
  {
   "cell_type": "markdown",
   "metadata": {},
   "source": [
    "Prostate"
   ]
  },
  {
   "cell_type": "code",
   "execution_count": null,
   "metadata": {},
   "outputs": [],
   "source": [
    "prostate_500_stat = data[data['tissue_name'] == 'prostate']\n",
    "fig = px.histogram(prostate_500_stat, x=\"tissue_region_percentage\",title='spleen data')\n",
    "fig.show()\n",
    "info5 = []\n",
    "for i in range(0,70,3):\n",
    "    info5.append([i,len(prostate_500_stat[(prostate_500_stat['tissue_region_percentage'] > i)]),])\n",
    "    \n",
    "info5 = np.array(info5)\n",
    "info5 = pd.DataFrame(info5,columns=['Tissue region percentage','Number of images'])\n",
    "fig = px.line(info5, x=\"Tissue region percentage\", y='Number of images',markers=True,title=\"prostate\")\n",
    "fig.show()\n",
    "# min_reg = prostate_500_stat[prostate_500_stat['tissue_region_percentage'] == prostate_500_stat['tissue_region_percentage'].min()].values\n",
    "# max_reg = prostate_500_stat[prostate_500_stat['tissue_region_percentage'] == prostate_500_stat['tissue_region_percentage'].max()].values\n",
    "# print(\"Min tissue region\",min_reg[0][-2])\n",
    "# im = tifffile.imread(min_reg[0][-3])\n",
    "# plt.imshow(im)\n",
    "# plt.title(f\"local path : {min_reg[0][-3]} || tissue region percentage : {min_reg[0][-2]}\")\n",
    "\n",
    "\n",
    "# print(\"Max tissue region\",max_reg[0][-2])\n",
    "# im = tifffile.imread(max_reg[0][-3])\n",
    "# plt.imshow(im)\n",
    "# plt.title(f\"local path : {max_reg[0][-3]} || tissue region percentage : {max_reg[0][-2]}\")\n",
    "\n"
   ]
  },
  {
   "cell_type": "code",
   "execution_count": null,
   "metadata": {},
   "outputs": [],
   "source": [
    "import plotly.io as pio\n",
    "pio.kaleido.scope.default_height = 360\n",
    "pio.kaleido.scope.default_width = 1080"
   ]
  },
  {
   "cell_type": "code",
   "execution_count": null,
   "metadata": {},
   "outputs": [],
   "source": [
    "info1['tissue'] = \"colon\"\n",
    "info2['tissue'] = \"spleen\"\n",
    "info3['tissue'] = \"kidney\"\n",
    "info4['tissue'] = \"lung\"\n",
    "info5['tissue'] = \"prostate\""
   ]
  },
  {
   "cell_type": "code",
   "execution_count": null,
   "metadata": {},
   "outputs": [],
   "source": [
    "result = pd.concat([info1,info2,info3,info4, info5])\n",
    "result.reset_index(inplace=True)"
   ]
  },
  {
   "cell_type": "code",
   "execution_count": null,
   "metadata": {},
   "outputs": [],
   "source": [
    "result['tissue'] = result['tissue'].replace('colon', 'Large Intestine')\n",
    "result['tissue'] = result['tissue'].replace('kidney', 'Kidney')\n",
    "result['tissue'] = result['tissue'].replace('lung', 'Lung')\n",
    "result['tissue'] = result['tissue'].replace('spleen', 'Spleen')\n",
    "result['tissue'] = result['tissue'].replace('prostate', 'Prostate')\n"
   ]
  },
  {
   "cell_type": "code",
   "execution_count": null,
   "metadata": {},
   "outputs": [],
   "source": [
    "result_sns = result.sort_values(\"tissue\") "
   ]
  },
  {
   "cell_type": "code",
   "execution_count": null,
   "metadata": {},
   "outputs": [],
   "source": [
    "result_sns.head()"
   ]
  },
  {
   "cell_type": "code",
   "execution_count": null,
   "metadata": {},
   "outputs": [],
   "source": [
    "fig = px.line(result, x=\"Tissue region percentage\", y='Number of images',markers=True,color='tissue', render_mode=\"svg\")\n",
    "\n",
    "fig.show()"
   ]
  },
  {
   "cell_type": "code",
   "execution_count": null,
   "metadata": {},
   "outputs": [],
   "source": [
    "# fig.write_image('plots/tissue_region_percentage_plot.png')\n",
    "# fig.write_image('plots/tissue_region_percentage_plot.svg')\n"
   ]
  },
  {
   "cell_type": "code",
   "execution_count": null,
   "metadata": {},
   "outputs": [],
   "source": [
    "sns.set(style=\"whitegrid\")\n",
    "g = sns.lineplot(x='Tissue region percentage', y='Number of images', data=result_sns, hue='tissue', palette='dark', alpha=0.8, markers=True, dashes=False)\n",
    "g.legend(loc='center left', bbox_to_anchor=(1, 0.5), ncol=1)\n",
    "g.set(xlabel='Tissue Region Percentage', ylabel='Number of Images')\n",
    "g.set(xlim=(0,70), ylim=(0,30000))\n",
    "sns.set_context(\"paper\", rc={\"font.size\":25,\"axes.titlesize\":25,\"axes.labelsize\":25})\n",
    "plt.figure(tight_layout=True)\n",
    "sns.despine()"
   ]
  },
  {
   "cell_type": "code",
   "execution_count": null,
   "metadata": {},
   "outputs": [],
   "source": [
    "fig = g.get_figure()\n",
    "fig.savefig('plots/tissue_region_percentage_plot.png', bbox_inches = \"tight\")\n",
    "fig.savefig('plots/tissue_region_percentage_plot.svg', bbox_inches = \"tight\")"
   ]
  }
 ],
 "metadata": {
  "interpreter": {
   "hash": "32356301dd006bbf64132854c4b4402aed7b1f5d0a11beb257e13c405c804352"
  },
  "kernelspec": {
   "display_name": "Python 3.9.7 ('base')",
   "language": "python",
   "name": "python3"
  },
  "language_info": {
   "codemirror_mode": {
    "name": "ipython",
    "version": 3
   },
   "file_extension": ".py",
   "mimetype": "text/x-python",
   "name": "python",
   "nbconvert_exporter": "python",
   "pygments_lexer": "ipython3",
   "version": "3.9.7"
  }
 },
 "nbformat": 4,
 "nbformat_minor": 4
}
