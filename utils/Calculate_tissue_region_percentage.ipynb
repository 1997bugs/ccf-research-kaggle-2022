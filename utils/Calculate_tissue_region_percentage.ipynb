{
 "cells": [
  {
   "cell_type": "markdown",
   "id": "64219fe4-c117-44a0-87c9-d8c23115a0f8",
   "metadata": {},
   "source": [
    "Script to get the tissue region percentage for images"
   ]
  },
  {
   "cell_type": "markdown",
   "id": "91c93545-c8f1-41b4-b537-53543727c5b4",
   "metadata": {},
   "source": [
    "Importing packages"
   ]
  },
  {
   "cell_type": "code",
   "execution_count": null,
   "id": "037ec7ad-4917-415c-86db-8914ae94cbdb",
   "metadata": {},
   "outputs": [],
   "source": [
    "import numpy as np\n",
    "import pandas as pd\n",
    "import tifffile\n",
    "import cv2\n",
    "from tqdm import tqdm\n",
    "import os\n",
    "import matplotlib.pyplot as plt\n"
   ]
  },
  {
   "cell_type": "code",
   "execution_count": null,
   "id": "250acdce-725c-4b6b-94d1-43104a675be8",
   "metadata": {},
   "outputs": [],
   "source": [
    "data = pd.read_csv(\"data.csv\")"
   ]
  },
  {
   "cell_type": "code",
   "execution_count": null,
   "id": "ced927ff-c4ac-4de4-bf13-ff54eb57d309",
   "metadata": {},
   "outputs": [],
   "source": [
    "data['tissue_name'].value_counts()"
   ]
  },
  {
   "cell_type": "code",
   "execution_count": null,
   "id": "f0be4a16-8101-4e97-93e3-4bfc3c471c3e",
   "metadata": {},
   "outputs": [],
   "source": [
    "len(data)"
   ]
  },
  {
   "cell_type": "code",
   "execution_count": null,
   "id": "289bba3d-5fc4-445d-b0c2-d27484933f78",
   "metadata": {},
   "outputs": [],
   "source": [
    "local_directory_path = \"path/to/data\""
   ]
  },
  {
   "cell_type": "code",
   "execution_count": null,
   "id": "7bb3b553-7f6f-4c3e-a435-a664d796302f",
   "metadata": {},
   "outputs": [],
   "source": [
    "data.columns"
   ]
  },
  {
   "cell_type": "code",
   "execution_count": null,
   "id": "85336a65-d45a-42a9-9af7-0ae42af08698",
   "metadata": {},
   "outputs": [],
   "source": [
    "data_recording = []\n",
    "for row in tqdm(data.iterrows(),total=len(data)):\n",
    "    image_path =local_directory_path +\"/\".join(row[1]['image'].split(\"/\")[-2:])\n",
    "    tissue_region_percentage = 0\n",
    "    if os.path.isfile(image_path):\n",
    "        image = tifffile.imread(image_path)\n",
    "        grayscale_image = cv2.cvtColor(image,cv2.COLOR_RGB2GRAY)\n",
    "        _, thresholded_image = cv2.threshold(grayscale_image,0,255,cv2.THRESH_BINARY_INV+cv2.THRESH_OTSU)\n",
    "        tissue_region_percentage = np.sum((thresholded_image==255)*1.0)/(thresholded_image.shape[0]*thresholded_image.shape[1])*100\n",
    "        data_recording.append([row[1]['tissue_name'],row[1]['age'],row[1]['sex'],row[1]['image'],image_path,tissue_region_percentage,True])\n",
    "    else:\n",
    "        data_recording.append([row[1]['tissue_name'],row[1]['age'],row[1]['sex'],row[1]['image'],image_path,tissue_region_percentage,False])\n",
    "\n",
    "df = pd.DataFrame(data_recording,columns=list(data.columns) + ['local_path','tissue_region_percentage',\"Image_exist?\"])\n",
    "df.to_csv('data_with_tissue_region_percentage.csv',index=None)"
   ]
  }
 ],
 "metadata": {
  "kernelspec": {
   "display_name": "Python 3 (ipykernel)",
   "language": "python",
   "name": "python3"
  },
  "language_info": {
   "codemirror_mode": {
    "name": "ipython",
    "version": 3
   },
   "file_extension": ".py",
   "mimetype": "text/x-python",
   "name": "python",
   "nbconvert_exporter": "python",
   "pygments_lexer": "ipython3",
   "version": "3.8.10"
  }
 },
 "nbformat": 4,
 "nbformat_minor": 5
}
