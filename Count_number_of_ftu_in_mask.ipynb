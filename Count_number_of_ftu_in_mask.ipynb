{
 "cells": [
  {
   "cell_type": "markdown",
   "id": "1d39cf38-7b70-4468-a9ed-a5a6b9221bd2",
   "metadata": {},
   "source": [
    "Count number of FTUs in masks"
   ]
  },
  {
   "cell_type": "code",
   "execution_count": null,
   "id": "35cb0f2e-6e22-4582-8e72-f3b2b4288dca",
   "metadata": {},
   "outputs": [],
   "source": [
    "import numpy as np\n",
    "import pandas as pd \n",
    "import json\n",
    "import cv2\n",
    "import codecs\n",
    "import os\n",
    "import skimage.io as io"
   ]
  },
  {
   "cell_type": "code",
   "execution_count": null,
   "id": "dc2ccdf9-4204-44e7-863b-4bf643e55a36",
   "metadata": {},
   "outputs": [],
   "source": [
    "path_to_json = \"path/to/json\"\n",
    "path_to_metadata = \"path/to/metadata.csv\""
   ]
  },
  {
   "cell_type": "code",
   "execution_count": null,
   "id": "4e3bb955-4e30-48c1-9e37-b60b64d34284",
   "metadata": {},
   "outputs": [],
   "source": [
    "metadata = pd.read_csv(path_to_metadata)"
   ]
  },
  {
   "cell_type": "code",
   "execution_count": null,
   "id": "359900ce-e76e-411c-aefd-ef812abfcf74",
   "metadata": {},
   "outputs": [],
   "source": [
    "metadata"
   ]
  },
  {
   "cell_type": "code",
   "execution_count": null,
   "id": "c2e566f3-37a4-4c87-ae71-ecf5f75ae92d",
   "metadata": {},
   "outputs": [],
   "source": [
    "fnames = []\n",
    "organs = []\n",
    "ftus = []\n",
    "skp = []\n",
    "for ann in os.listdir(path_to_json):\n",
    "    for j in os.listdir(path_to_json+\"/\"+ann):\n",
    "        json_path = path_to_json+\"/\"+ann+\"/\"+j\n",
    "    \n",
    "        data = json.load(codecs.open(json_path, 'r', 'utf-8-sig'))\n",
    "        \n",
    "        fname = j.split(\".\")[0]\n",
    "\n",
    "        polys = []\n",
    "        ftu_count = 0\n",
    "        skipped = 0\n",
    "        for index in range(data.__len__()):\n",
    "            geom = [np.array([x]) for x in data[index]['geometry']['coordinates']]\n",
    "\n",
    "            for g in geom:\n",
    "                if cv2.contourArea(g.astype(int)) >= 10:\n",
    "                    ftu_count+=1\n",
    "                else:\n",
    "                    skipped+=1\n",
    "\n",
    "        ftus.append(ftu_count)\n",
    "        skp.append(skipped)\n",
    "        fnames.append(fname)\n",
    "        organs.append(ann)"
   ]
  },
  {
   "cell_type": "code",
   "execution_count": null,
   "id": "6acbb977-9409-4a60-b657-fc6a859c2001",
   "metadata": {},
   "outputs": [],
   "source": [
    "df = pd.DataFrame(ftus,fnames).reset_index()\n",
    "df.columns = [\"filename\",\"ftu_count\"]"
   ]
  },
  {
   "cell_type": "code",
   "execution_count": null,
   "id": "84fa1e33-a5e7-400a-a477-4a6f705db9ce",
   "metadata": {},
   "outputs": [],
   "source": [
    "def get_ftu(x):\n",
    "    if x in df['filename'].tolist():\n",
    "        return df[df['filename']==x]['ftu_count'].values[0]\n",
    "    else:\n",
    "        return 0"
   ]
  },
  {
   "cell_type": "code",
   "execution_count": null,
   "id": "0a450323-0f91-45c8-9425-37f3baf4341d",
   "metadata": {},
   "outputs": [],
   "source": [
    "metadata[\"ftu_counts\"]  = metadata['filename'].apply(lambda x : get_ftu(x))"
   ]
  }
 ],
 "metadata": {
  "kernelspec": {
   "display_name": "Python 3 (ipykernel)",
   "language": "python",
   "name": "python3"
  },
  "language_info": {
   "codemirror_mode": {
    "name": "ipython",
    "version": 3
   },
   "file_extension": ".py",
   "mimetype": "text/x-python",
   "name": "python",
   "nbconvert_exporter": "python",
   "pygments_lexer": "ipython3",
   "version": "3.8.10"
  }
 },
 "nbformat": 4,
 "nbformat_minor": 5
}
