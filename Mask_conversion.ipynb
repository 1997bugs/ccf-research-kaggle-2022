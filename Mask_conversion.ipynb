{
 "cells": [
  {
   "cell_type": "markdown",
   "id": "f65dbc3d-d7c4-4d1e-ac47-7d43d2daf2c7",
   "metadata": {},
   "source": [
    "Notebook to convert masks between different formats: png/tif, rle, json."
   ]
  },
  {
   "cell_type": "code",
   "execution_count": null,
   "id": "fe856d9a-36b2-4d2f-b94e-22738caf8fad",
   "metadata": {},
   "outputs": [],
   "source": [
    "import json\n",
    "import tifffile\n",
    "import os\n",
    "import numpy as np\n",
    "import pandas as pd\n",
    "import codecs\n",
    "import cv2\n",
    "import matplotlib.pyplot as plt\n",
    "import shutil\n",
    "import skimage.io as io\n",
    "from PIL import Image\n"
   ]
  },
  {
   "cell_type": "markdown",
   "id": "c9d136ea",
   "metadata": {},
   "source": [
    "JSON mask to image mask (png/tif)"
   ]
  },
  {
   "cell_type": "code",
   "execution_count": null,
   "id": "e8d1806c-5edc-4a6c-b4e5-5a1b67e4844f",
   "metadata": {},
   "outputs": [],
   "source": [
    "def get_mask_from_json(jsn:json,shape=(3000 , 3000)):\n",
    "    \n",
    "    #code from colon deepflash5\n",
    "    \n",
    "    data = json.load(codecs.open(jsn, 'r', 'utf-8-sig'))\n",
    "#json.load(open(jsn).read().decode('utf-8-sig'))\n",
    "    polys = []\n",
    "    for index in range(data.__len__()):\n",
    "        \n",
    "        \n",
    "        \n",
    "        geom = [np.array([x]) for x in data[index]['geometry']['coordinates']]\n",
    "        \n",
    "        for g in geom:\n",
    "            polys.append(g.astype(int))\n",
    "        \n",
    "        \n",
    "            \n",
    "        \n",
    "    mask = np.zeros(shape)\n",
    "    for i in range(len(polys)):\n",
    "        if cv2.contourArea(polys[i].astype(int)) >= 10:\n",
    "            cv2.fillPoly(mask, polys[i], 1)\n",
    "        \n",
    "    return mask"
   ]
  },
  {
   "cell_type": "code",
   "execution_count": null,
   "id": "a2ad660e",
   "metadata": {},
   "outputs": [],
   "source": [
    "filename = \"filename\"\n",
    "img_shape = tifffile.imread(f\"{filename}.tif\").shape\n",
    "print(f\"Shape: {img_shape}\")\n",
    "generated_mask =  np.uint8(get_mask_from_json(f\"{filename}.json\",(img_shape[0],img_shape[1]))*255)\n",
    "plt.imshow(generated_mask)\n",
    "io.imsave(f\"{filename}.png\",generated_mask)  \n",
    "\n",
    "# 2 ways to save as .tif\n",
    "#io.imsave(f\"{filename}.tif\",generated_mask)  # to save as .tif\n",
    "#tifffile.imwrite(f\"{filename}.tif\",generated_mask) # to save as .tif"
   ]
  },
  {
   "cell_type": "markdown",
   "id": "7dd8b534-cd9e-4f66-825b-1d9772e269e9",
   "metadata": {},
   "source": [
    "RLE to png mask"
   ]
  },
  {
   "cell_type": "code",
   "execution_count": null,
   "id": "22438ae3-548c-4d1b-9cd4-da8d066e1dab",
   "metadata": {},
   "outputs": [],
   "source": [
    "def rle2mask(rle, shape):\n",
    "    '''\n",
    "    mask_rle: run-length as string formatted (start length)\n",
    "    shape: (height, width) of array to return \n",
    "    Returns numpy array <- 1(mask), 0(background)\n",
    "    '''\n",
    "    s = rle.split()\n",
    "    starts, lengths = [np.asarray(x, dtype=int) for x in (s[0:][::2], s[1:][::2])]\n",
    "    starts -= 1\n",
    "    ends = starts + lengths\n",
    "    img = np.zeros(shape[0]*shape[1], dtype=np.uint8)\n",
    "    for lo, hi in zip(starts, ends):\n",
    "        img[lo:hi] = 1\n",
    "    return img.reshape(shape, order='F')\n",
    "\n",
    "\n",
    "result_csv = pd.read_csv(\"csv_file_with_imagename_and_rle.csv\")\n",
    "\n",
    "#reading image name and rle from the csv\n",
    "image_index_in_csv = 10\n",
    "\n",
    "im_file_name,rle = result_csv.iloc[image_index_in_csv,0],result_csv.iloc[image_index_in_csv,1]\n",
    "\n",
    "#deriving image shape for the rle\n",
    "img_shape = tifffile.imread(\"path_to_image_file.tif\").shape\n",
    "\n",
    "#rle to mask conversion\n",
    "mask = rle2mask(rle,(img_shape[0],img_shape[1]))\n",
    "\n",
    "#comment this if not required\n",
    "plt.imshow(mask)\n",
    "plt.show()\n",
    "\n",
    "#saving masK as png\n",
    "Image.fromarray(mask*255).save(\"mask.png\")"
   ]
  },
  {
   "cell_type": "markdown",
   "id": "68a03560",
   "metadata": {},
   "source": [
    "image_mask.tif to RLE. Requires the conversion of JSON masks to .tif format first."
   ]
  },
  {
   "cell_type": "code",
   "execution_count": null,
   "id": "a56a3305",
   "metadata": {},
   "outputs": [],
   "source": [
    "def rle_encode(img):\n",
    "    #cite = https://www.kaggle.com/lifa08/run-length-encode-and-decode\n",
    "    '''\n",
    "    img: numpy array, 1 - mask, 0 - background\n",
    "    Returns run length as string formated\n",
    "    '''\n",
    "    pixels = img.T.flatten()\n",
    "    pixels = np.concatenate([[0], pixels, [0]])\n",
    "    runs = np.where(pixels[1:] != pixels[:-1])[0] + 1\n",
    "    runs[1::2] -= runs[::2]\n",
    "    return ' '.join(str(x) for x in runs)\n",
    "\n",
    "rle = rle_encode(tifffile.imread(\"path_to_mask_image.tif\"))"
   ]
  },
  {
   "cell_type": "markdown",
   "id": "6cab5b9a",
   "metadata": {},
   "source": [
    "Png Image mask to JSON + Generate mask overlay + Get instance counts and areas."
   ]
  },
  {
   "cell_type": "code",
   "execution_count": null,
   "id": "48436c83",
   "metadata": {},
   "outputs": [],
   "source": [
    "def json_generation_from_mask(mask_path:str,json_path:str,image_df,overlay_dir):\n",
    "    '''\n",
    "    mask_path: path to png mask file\n",
    "    json_path: path to save json\n",
    "    image_df: dataframe with image filenames\n",
    "    overlay_dir: path to save overlays\n",
    "    Returns count, areas of instances in mask\n",
    "    '''\n",
    "    areas = []\n",
    "    annot = []\n",
    "    mask_image_name = (mask_path).split(\"/\")[-1]\n",
    "    msk = cv2.imread(mask_path,0)\n",
    "    # print( mask_image_name.replace(\".png\",\"\").replace(\"mask_\",\"\"))\n",
    "    image_path = [x for x in image_df['id'] if mask_image_name.replace(\".png\",\"\").replace(\"mask_\",\"\") in x]\n",
    "    image = tifffile.imread(image_path[0])\n",
    "    \n",
    "    font = cv2.FONT_HERSHEY_SIMPLEX\n",
    "  \n",
    "    # fontScale\n",
    "    fontScale = 0.5\n",
    "\n",
    "    # Blue color in BGR\n",
    "    color = (0, 0, 255)\n",
    "\n",
    "    # Line thickness of 2 px\n",
    "    thickness = 1\n",
    "    contours, hierarchy = cv2.findContours(msk.astype(np.uint8), cv2.RETR_EXTERNAL, cv2.CHAIN_APPROX_NONE)\n",
    "    \n",
    "#     data_pred_overlay = cv2.drawContours(image.copy(), contours, -1, (0, 255, 0), 3)\n",
    "#     cv2.imwrite(f\"{overlay_dir}/pred_overlays_\"+mask_image_name.replace(\"mask_\",\"\").replace(\".png\",\".tif\"),data_pred_overlay)\n",
    "    data_pred_overlay = image.copy()\n",
    "    data = {}\n",
    "    if len(contours)==0:\n",
    "        data =  {'type':'Feature','geometry':{'type':'Polygon','coordinates':[]}}\n",
    "        print(f\"No annotations for {mask_image_name}\")\n",
    "    else:\n",
    "        for i,c in enumerate(contours):\n",
    "            # print(c.shape)\n",
    "            area = cv2.contourArea(c)\n",
    "            if area < 2000:\n",
    "                continue\n",
    "            areas.append(area)\n",
    "            data_pred_overlay = cv2.drawContours(data_pred_overlay, c, -1, (0, 255, 0), 3)\n",
    "            \n",
    "            data_pred_overlay  = cv2.putText(data_pred_overlay, str(area), (c[0][0][0],c[0][0][1]), font, \n",
    "                   fontScale, color, thickness, cv2.LINE_AA)\n",
    "            \n",
    "            data = {'type':'Feature','geometry':{'type':'Polygon','coordinates':[[x[0] for x in c.tolist()]+[c.tolist()[0][0]]]}}\n",
    "            annot.append(data)\n",
    "    tifffile.imwrite(f\"{overlay_dir}/pred_overlays_\"+mask_image_name.replace(\"mask_\",\"\").replace(\".png\",\".tif\"),data_pred_overlay)\n",
    "    with open(json_path+mask_image_name.replace(\"mask_\",\"\").replace(\".png\",\"_annotations.json\"), 'w') as outfile:\n",
    "        json.dump(annot, outfile)\n",
    "        \n",
    "    return len(contours),areas"
   ]
  }
 ],
 "metadata": {
  "kernelspec": {
   "display_name": "Python 3 (ipykernel)",
   "language": "python",
   "name": "python3"
  },
  "language_info": {
   "codemirror_mode": {
    "name": "ipython",
    "version": 3
   },
   "file_extension": ".py",
   "mimetype": "text/x-python",
   "name": "python",
   "nbconvert_exporter": "python",
   "pygments_lexer": "ipython3",
   "version": "3.9.6"
  }
 },
 "nbformat": 4,
 "nbformat_minor": 5
}
