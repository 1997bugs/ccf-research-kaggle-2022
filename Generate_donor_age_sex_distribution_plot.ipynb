{
 "cells": [
  {
   "cell_type": "code",
   "execution_count": null,
   "metadata": {},
   "outputs": [],
   "source": [
    "import numpy as np\n",
    "import pandas as pd\n",
    "import matplotlib.pyplot as plt\n",
    "import seaborn as sns\n",
    "\n",
    "plt.rcParams[\"figure.figsize\"] = (15,5)"
   ]
  },
  {
   "cell_type": "code",
   "execution_count": null,
   "metadata": {},
   "outputs": [],
   "source": [
    "def read_data(file_name):\n",
    "    \"\"\"\n",
    "    Reads data from a csv file and returns a pandas dataframe\n",
    "    \"\"\"\n",
    "    return pd.read_csv(file_name)"
   ]
  },
  {
   "cell_type": "code",
   "execution_count": null,
   "metadata": {},
   "outputs": [],
   "source": [
    "data = read_data(\"metadata.csv\")\n",
    "\n",
    "data.head()"
   ]
  },
  {
   "cell_type": "code",
   "execution_count": null,
   "metadata": {},
   "outputs": [],
   "source": [
    "data.tail()"
   ]
  },
  {
   "cell_type": "code",
   "execution_count": null,
   "metadata": {},
   "outputs": [],
   "source": [
    "public_hpa_df = data.loc[data[\"data_type\"] == 'public']\n",
    "print(public_hpa_df.filename.count())\n",
    "public_hpa_df.head()"
   ]
  },
  {
   "cell_type": "code",
   "execution_count": null,
   "metadata": {},
   "outputs": [],
   "source": [
    "df_all_per_patient_stats = public_hpa_df[['patient_id', 'sex', 'age', 'tissue_name']]\n",
    "df_all_per_patient_stats = df_all_per_patient_stats.drop_duplicates('patient_id', keep='first')\n",
    "df_all_per_patient_stats.head()"
   ]
  },
  {
   "cell_type": "code",
   "execution_count": null,
   "metadata": {},
   "outputs": [],
   "source": [
    "df_all_per_patient_stats.count()"
   ]
  },
  {
   "cell_type": "code",
   "execution_count": null,
   "metadata": {},
   "outputs": [],
   "source": [
    "df_all_count = df_all_per_patient_stats['tissue_name'].value_counts()\n",
    "print('Total', df_all_count.sum())\n",
    "df_all_count"
   ]
  },
  {
   "cell_type": "code",
   "execution_count": null,
   "metadata": {},
   "outputs": [],
   "source": [
    "df_all_per_patient_stats = df_all_per_patient_stats.sort_values(\"tissue_name\")"
   ]
  },
  {
   "cell_type": "code",
   "execution_count": null,
   "metadata": {},
   "outputs": [],
   "source": [
    "df_all_per_patient_stats['tissue_name'] = df_all_per_patient_stats['tissue_name'].apply(lambda x: str(x.replace(\"kidney\", \"Kidney\")))\n",
    "df_all_per_patient_stats['tissue_name'] = df_all_per_patient_stats['tissue_name'].apply(lambda x: str(x.replace(\"largeintestine\", \"Large Intestine\")))\n",
    "df_all_per_patient_stats['tissue_name'] = df_all_per_patient_stats['tissue_name'].apply(lambda x: str(x.replace(\"spleen\", \"Spleen\")))\n",
    "df_all_per_patient_stats['tissue_name'] = df_all_per_patient_stats['tissue_name'].apply(lambda x: str(x.replace(\"lung\", \"Lung\")))\n",
    "df_all_per_patient_stats['tissue_name'] = df_all_per_patient_stats['tissue_name'].apply(lambda x: str(x.replace(\"prostate\", \"Prostate\")))"
   ]
  },
  {
   "cell_type": "code",
   "execution_count": null,
   "metadata": {},
   "outputs": [],
   "source": [
    "# sns.set(style=\"darkgrid\")\n",
    "# g = sns.scatterplot(x=\"tissue_name\", y=\"age\", data=df_all_per_patient_stats, style='sex', hue='tissue_name', s=80, palette=\"colorblind\")\n",
    "# g.legend(loc='center left', bbox_to_anchor=(1, 0.5), ncol=1)\n"
   ]
  },
  {
   "cell_type": "code",
   "execution_count": null,
   "metadata": {},
   "outputs": [],
   "source": [
    "sns.set(style=\"whitegrid\")\n",
    "g = sns.swarmplot(x='age', y='tissue_name', data=df_all_per_patient_stats, hue='sex', s=7, palette=['red', 'blue'], alpha=0.8)\n",
    "g.legend(loc='center left', bbox_to_anchor=(1, 0.5), ncol=1)\n",
    "g.set(xlabel='Age', ylabel='Organ')\n",
    "g.set(xlim=(0,90))\n",
    "sns.set_context(\"paper\", rc={\"font.size\":25,\"axes.titlesize\":25,\"axes.labelsize\":25})\n",
    "plt.figure(tight_layout=True)\n",
    "sns.despine()\n"
   ]
  },
  {
   "cell_type": "code",
   "execution_count": null,
   "metadata": {},
   "outputs": [],
   "source": [
    "fig = g.get_figure()\n",
    "fig.savefig('plots/donor_distribution_plot.png', bbox_inches = \"tight\")\n",
    "fig.savefig('plots/donor_distribution_plot.svg', bbox_inches = \"tight\")"
   ]
  },
  {
   "cell_type": "code",
   "execution_count": null,
   "metadata": {},
   "outputs": [],
   "source": [
    "# jittered_x = df_all_per_patient_stats['age'] + 2 * np.random.rand(len(df_all_per_patient_stats['age'])) -0.05\n",
    "# sns.set(style=\"darkgrid\")\n",
    "# g = sns.scatterplot(x=\"tissue_name\", y=jittered_x, data=df_all_per_patient_stats, style='sex', hue='tissue_name', s=80, palette=\"colorblind\")\n",
    "# g.legend(loc='center left', bbox_to_anchor=(1, 0.5), ncol=1)"
   ]
  }
 ],
 "metadata": {
  "interpreter": {
   "hash": "32356301dd006bbf64132854c4b4402aed7b1f5d0a11beb257e13c405c804352"
  },
  "kernelspec": {
   "display_name": "Python 3.9.7 ('base')",
   "language": "python",
   "name": "python3"
  },
  "language_info": {
   "codemirror_mode": {
    "name": "ipython",
    "version": 3
   },
   "file_extension": ".py",
   "mimetype": "text/x-python",
   "name": "python",
   "nbconvert_exporter": "python",
   "pygments_lexer": "ipython3",
   "version": "3.9.7"
  },
  "orig_nbformat": 4
 },
 "nbformat": 4,
 "nbformat_minor": 2
}
